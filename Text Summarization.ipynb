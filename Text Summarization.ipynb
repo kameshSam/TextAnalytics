{
 "cells": [
  {
   "cell_type": "markdown",
   "metadata": {},
   "source": [
    "Extractive Summarisation"
   ]
  },
  {
   "cell_type": "code",
   "execution_count": 8,
   "metadata": {},
   "outputs": [
    {
     "name": "stdout",
     "output_type": "stream",
     "text": [
      "However, significant challenges remain, such as balancing economic growth with environmental sustainability, ensuring equitable access to clean energy, and fostering global cooperation to address this truly international issue.\n"
     ]
    }
   ],
   "source": [
    "import nltk\n",
    "from nltk.corpus import stopwords\n",
    "from nltk.tokenize import word_tokenize, sent_tokenize\n",
    "\n",
    "def extractive_summary(text, summary_ratio=0.2):\n",
    "    #nltk.download('stopwords')\n",
    "    #nltk.download('punkt')\n",
    "    stop_words = set(stopwords.words('english'))\n",
    "    \n",
    "    words = word_tokenize(text.lower())\n",
    "    sentences = sent_tokenize(text)\n",
    "    \n",
    "    word_freq = {}\n",
    "    for word in words:\n",
    "        if word not in stop_words and word.isalpha():\n",
    "            word_freq[word] = word_freq.get(word, 0) + 1\n",
    "            \n",
    "    sentence_scores = {}\n",
    "    for sentence in sentences:\n",
    "        for word in word_tokenize(sentence.lower()):\n",
    "            if word in word_freq:\n",
    "                if sentence not in sentence_scores:\n",
    "                    sentence_scores[sentence] = word_freq[word]\n",
    "                else:\n",
    "                    sentence_scores[sentence] += word_freq[word]\n",
    "                    \n",
    "    summary_length = int(len(sentences) * summary_ratio)\n",
    "    summary_sentences = sorted(sentence_scores, key=sentence_scores.get, reverse=True)[:summary_length]\n",
    "    \n",
    "    return ' '.join(summary_sentences)\n",
    "\n",
    "if __name__ == \"__main__\":\n",
    "    text = \"In recent years, climate change has become one of the most pressing issues confronting humanity, necessitating urgent and comprehensive action across multiple sectors. The scientific consensus is clear that human activities, primarily the burning of fossil fuels and deforestation, are driving significant changes in global weather patterns. These changes are resulting in more frequent and intense natural disasters, such as hurricanes, wildfires, and droughts, which have devastating impacts on communities and economies worldwide. Furthermore, rising sea levels pose a significant threat to coastal cities, with millions of people at risk of displacement in the coming decades. Governments, international organizations, and businesses are increasingly recognizing the urgency of the situation, leading to more robust policy measures and investments in renewable energy, climate-resilient infrastructure, and sustainable practices. However, significant challenges remain, such as balancing economic growth with environmental sustainability, ensuring equitable access to clean energy, and fostering global cooperation to address this truly international issue. \"\n",
    "    \n",
    "    summary = extractive_summary(text)\n",
    "    print(summary)\n"
   ]
  },
  {
   "cell_type": "markdown",
   "metadata": {},
   "source": [
    "Abstractive Summarisation"
   ]
  },
  {
   "cell_type": "code",
   "execution_count": 5,
   "metadata": {},
   "outputs": [
    {
     "name": "stdout",
     "output_type": "stream",
     "text": [
      "Climate change has become one of the most pressing issues confronting humanity. Human activities, primarily the burning of fossil fuels and deforestation, are driving significant changes in global weather patterns. Rising sea levels pose a significant threat to coastal cities.\n"
     ]
    }
   ],
   "source": [
    "# Facebook Bart Model\n",
    "from transformers import pipeline\n",
    "\n",
    "def abstractive_summary(text, max_length=130, min_length=30):\n",
    "    summarizer = pipeline(\"summarization\", model=\"facebook/bart-large-cnn\")\n",
    "    summary = summarizer(text, max_length=max_length, min_length=min_length, do_sample=False)\n",
    "    return summary[0]['summary_text']\n",
    "\n",
    "if __name__ == \"__main__\":\n",
    "    text = (\"In recent years, climate change has become one of the most pressing issues confronting humanity, necessitating urgent and comprehensive action across multiple sectors. The scientific consensus is clear that human activities, primarily the burning of fossil fuels and deforestation, are driving significant changes in global weather patterns. These changes are resulting in more frequent and intense natural disasters, such as hurricanes, wildfires, and droughts, which have devastating impacts on communities and economies worldwide. Furthermore, rising sea levels pose a significant threat to coastal cities, with millions of people at risk of displacement in the coming decades. Governments, international organizations, and businesses are increasingly recognizing the urgency of the situation, leading to more robust policy measures and investments in renewable energy, climate-resilient infrastructure, and sustainable practices. However, significant challenges remain, such as balancing economic growth with environmental sustainability, ensuring equitable access to clean energy, and fostering global cooperation to address this truly international issue. \")\n",
    "    \n",
    "    summary = abstractive_summary(text)\n",
    "    print(summary)\n"
   ]
  },
  {
   "cell_type": "code",
   "execution_count": 6,
   "metadata": {},
   "outputs": [
    {
     "name": "stderr",
     "output_type": "stream",
     "text": [
      "/Users/abianindito/anaconda3/lib/python3.10/site-packages/torch/_utils.py:831: UserWarning: TypedStorage is deprecated. It will be removed in the future and UntypedStorage will be the only storage class. This should only matter to you if you are using storages directly.  To access UntypedStorage directly, use tensor.untyped_storage() instead of tensor.storage()\n",
      "  return self.fget.__get__(instance, owner)()\n",
      "Some weights of PegasusForConditionalGeneration were not initialized from the model checkpoint at google/pegasus-xsum and are newly initialized: ['model.decoder.embed_positions.weight', 'model.encoder.embed_positions.weight']\n",
      "You should probably TRAIN this model on a down-stream task to be able to use it for predictions and inference.\n"
     ]
    },
    {
     "name": "stdout",
     "output_type": "stream",
     "text": [
      "The United Nations Framework Convention on Climate Change (UNFCCC) is the world's most important legal, political, and economic agreement on climate change.\n"
     ]
    }
   ],
   "source": [
    "# Google Pegasus Model\n",
    "from transformers import pipeline\n",
    "\n",
    "def abstractive_summary(text, max_length=130, min_length=30):\n",
    "    summarizer = pipeline(\"summarization\", model=\"google/pegasus-xsum\")\n",
    "    summary = summarizer(text, max_length=max_length, min_length=min_length, do_sample=False)\n",
    "    return summary[0]['summary_text']\n",
    "\n",
    "if __name__ == \"__main__\":\n",
    "    text = (\"In recent years, climate change has become one of the most pressing issues confronting humanity, necessitating urgent and comprehensive action across multiple sectors. The scientific consensus is clear that human activities, primarily the burning of fossil fuels and deforestation, are driving significant changes in global weather patterns. These changes are resulting in more frequent and intense natural disasters, such as hurricanes, wildfires, and droughts, which have devastating impacts on communities and economies worldwide. Furthermore, rising sea levels pose a significant threat to coastal cities, with millions of people at risk of displacement in the coming decades. Governments, international organizations, and businesses are increasingly recognizing the urgency of the situation, leading to more robust policy measures and investments in renewable energy, climate-resilient infrastructure, and sustainable practices. However, significant challenges remain, such as balancing economic growth with environmental sustainability, ensuring equitable access to clean energy, and fostering global cooperation to address this truly international issue. \")\n",
    "    \n",
    "    summary = abstractive_summary(text)\n",
    "    print(summary)\n"
   ]
  },
  {
   "cell_type": "code",
   "execution_count": 4,
   "metadata": {},
   "outputs": [
    {
     "name": "stdout",
     "output_type": "stream",
     "text": [
      "Climate change has become one of the most pressing issues confronting humanity. Human activities, primarily the burning of fossil fuels and deforestation, are driving significant changes in global weather patterns. Rising sea levels pose a significant threat to coastal cities.\n"
     ]
    }
   ],
   "source": [
    "# Facebook Bart Modek with token separation\n",
    "from transformers import pipeline\n",
    "\n",
    "def chunk_text(text, max_tokens=1024):\n",
    "    words = text.split()\n",
    "    for i in range(0, len(words), max_tokens):\n",
    "        yield ' '.join(words[i:i + max_tokens])\n",
    "\n",
    "def summarize_large_text(text, max_length=130, min_length=30):\n",
    "    summarizer = pipeline(\"summarization\", model=\"facebook/bart-large-cnn\")\n",
    "    summaries = []\n",
    "    for chunk in chunk_text(text, max_tokens=400):  # Adjust max_tokens as needed\n",
    "        summary = summarizer(chunk, max_length=max_length, min_length=min_length, do_sample=False)\n",
    "        summaries.append(summary[0]['summary_text'])\n",
    "    return ' '.join(summaries)\n",
    "\n",
    "if __name__ == \"__main__\":\n",
    "    long_text = (\n",
    "        \"In recent years, climate change has become one of the most pressing issues confronting humanity, necessitating urgent and comprehensive action across multiple sectors. The scientific consensus is clear that human activities, primarily the burning of fossil fuels and deforestation, are driving significant changes in global weather patterns. These changes are resulting in more frequent and intense natural disasters, such as hurricanes, wildfires, and droughts, which have devastating impacts on communities and economies worldwide. Furthermore, rising sea levels pose a significant threat to coastal cities, with millions of people at risk of displacement in the coming decades. Governments, international organizations, and businesses are increasingly recognizing the urgency of the situation, leading to more robust policy measures and investments in renewable energy, climate-resilient infrastructure, and sustainable practices. However, significant challenges remain, such as balancing economic growth with environmental sustainability, ensuring equitable access to clean energy, and fostering global cooperation to address this truly international issue. \"\n",
    "    )\n",
    "    \n",
    "    summary = summarize_large_text(long_text)\n",
    "    print(summary)\n"
   ]
  }
 ],
 "metadata": {
  "kernelspec": {
   "display_name": "base",
   "language": "python",
   "name": "python3"
  },
  "language_info": {
   "codemirror_mode": {
    "name": "ipython",
    "version": 3
   },
   "file_extension": ".py",
   "mimetype": "text/x-python",
   "name": "python",
   "nbconvert_exporter": "python",
   "pygments_lexer": "ipython3",
   "version": "3.10.13"
  }
 },
 "nbformat": 4,
 "nbformat_minor": 2
}
